{
 "metadata": {
  "language_info": {
   "codemirror_mode": {
    "name": "ipython",
    "version": 3
   },
   "file_extension": ".py",
   "mimetype": "text/x-python",
   "name": "python",
   "nbconvert_exporter": "python",
   "pygments_lexer": "ipython3",
   "version": "3.8.5-final"
  },
  "orig_nbformat": 2,
  "kernelspec": {
   "name": "python3",
   "display_name": "Python 3",
   "language": "python"
  }
 },
 "nbformat": 4,
 "nbformat_minor": 2,
 "cells": [
  {
   "source": [
    "Import required libraries."
   ],
   "cell_type": "markdown",
   "metadata": {}
  },
  {
   "cell_type": "code",
   "execution_count": 17,
   "metadata": {},
   "outputs": [],
   "source": [
    "import numpy as np, pandas as pd\n",
    "import seaborn as sns\n",
    "import scipy.stats as st\n",
    "import matplotlib.pyplot as plt"
   ]
  },
  {
   "source": [
    "Read dataset from pickle file and remove rows with reported drug usage."
   ],
   "cell_type": "markdown",
   "metadata": {}
  },
  {
   "cell_type": "code",
   "execution_count": 18,
   "metadata": {},
   "outputs": [],
   "source": [
    "df = pd.read_pickle(\"accidents.pkl.gz\")\n",
    "df = df[df.p11 != 4]\n",
    "df = df[df.p11 != 5]"
   ]
  },
  {
   "source": [
    "Create columns for analyzed values."
   ],
   "cell_type": "markdown",
   "metadata": {}
  },
  {
   "cell_type": "code",
   "execution_count": 19,
   "metadata": {},
   "outputs": [],
   "source": [
    "df['strong_alcohol'] = (df['p11'] >= 7)\n",
    "df['big_injuries'] = (df['p13a'] + df['p13b'] > 0)"
   ]
  },
  {
   "source": [
    "Create crosstab between analyzed values."
   ],
   "cell_type": "markdown",
   "metadata": {}
  },
  {
   "cell_type": "code",
   "execution_count": 20,
   "metadata": {},
   "outputs": [],
   "source": [
    "ct = pd.crosstab(df['strong_alcohol'], df['big_injuries'])"
   ]
  },
  {
   "source": [
    "Calculate p-value by chi2 test."
   ],
   "cell_type": "markdown",
   "metadata": {}
  },
  {
   "cell_type": "code",
   "execution_count": 21,
   "metadata": {},
   "outputs": [
    {
     "output_type": "execute_result",
     "data": {
      "text/plain": [
       "(558.1749514234125,\n",
       " 2.0971505700338304e-123,\n",
       " 1,\n",
       " array([[4.57059308e+05, 1.12456916e+04],\n",
       "        [1.69606916e+04, 4.17308438e+02]]))"
      ]
     },
     "metadata": {},
     "execution_count": 21
    }
   ],
   "source": [
    "st.chi2_contingency(ct)"
   ]
  },
  {
   "source": [
    "P-value is 2.0971505700338304e-123 meaning the significance of observed correlation is high."
   ],
   "cell_type": "markdown",
   "metadata": {}
  }
 ]
}